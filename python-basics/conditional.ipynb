{
 "cells": [
  {
   "cell_type": "markdown",
   "id": "0c385208",
   "metadata": {},
   "source": [
    "Conditional statements\n"
   ]
  },
  {
   "cell_type": "code",
   "execution_count": null,
   "id": "5535ded6",
   "metadata": {},
   "outputs": [
    {
     "name": "stdout",
     "output_type": "stream",
     "text": [
      "Youre not\n"
     ]
    }
   ],
   "source": [
    "age=int(input(\"enter an age\"))\n",
    "if age>=18:\n",
    "    print(\"Youre allowed to vote\")\n",
    "else:\n",
    "    print(\"Youre not\")"
   ]
  },
  {
   "cell_type": "code",
   "execution_count": 4,
   "id": "50f7edd8",
   "metadata": {},
   "outputs": [
    {
     "name": "stdout",
     "output_type": "stream",
     "text": [
      "its not leap year\n"
     ]
    }
   ],
   "source": [
    "year = int(input((\"enter a year\")))\n",
    "if (year%4==0 & year%100==0)or (year%400==0):\n",
    "    print(\"the given year is leap year\")\n",
    "else:\n",
    "    print(\"its not leap year\")"
   ]
  },
  {
   "cell_type": "code",
   "execution_count": 22,
   "id": "c38d42c2",
   "metadata": {},
   "outputs": [
    {
     "ename": "ValueError",
     "evalue": "could not convert string to float: ''",
     "output_type": "error",
     "traceback": [
      "\u001b[31m---------------------------------------------------------------------------\u001b[39m",
      "\u001b[31mValueError\u001b[39m                                Traceback (most recent call last)",
      "\u001b[36mCell\u001b[39m\u001b[36m \u001b[39m\u001b[32mIn[22]\u001b[39m\u001b[32m, line 1\u001b[39m\n\u001b[32m----> \u001b[39m\u001b[32m1\u001b[39m num = \u001b[38;5;28;43mfloat\u001b[39;49m\u001b[43m(\u001b[49m\u001b[38;5;28;43minput\u001b[39;49m\u001b[43m(\u001b[49m\u001b[33;43m\"\u001b[39;49m\u001b[33;43menter a number\u001b[39;49m\u001b[33;43m\"\u001b[39;49m\u001b[43m)\u001b[49m\u001b[43m)\u001b[49m\n\u001b[32m      2\u001b[39m num1 = \u001b[38;5;28mfloat\u001b[39m(\u001b[38;5;28minput\u001b[39m(\u001b[33m\"\u001b[39m\u001b[33menter another number\u001b[39m\u001b[33m\"\u001b[39m))\n\u001b[32m      3\u001b[39m operation = \u001b[38;5;28minput\u001b[39m(\u001b[33m\"\u001b[39m\u001b[33menter an operation(+,-,*,/):\u001b[39m\u001b[33m\"\u001b[39m)\n",
      "\u001b[31mValueError\u001b[39m: could not convert string to float: ''"
     ]
    }
   ],
   "source": [
    "num = float(input(\"enter a number\"))\n",
    "num1 = float(input(\"enter another number\"))\n",
    "operation = input(\"enter an operation(+,-,*,/):\")\n",
    "\n",
    "if operation == '+':\n",
    "    result = num+num1\n",
    "elif operation == '-':\n",
    "    result = num-num1\n",
    "elif operation == '*':\n",
    "    result = num*num1\n",
    "elif operation == '/':\n",
    "    if num1%2!=0:\n",
    "        result= num/num1\n",
    "    else:\n",
    "        print(\"Non divisible\")\n",
    "else:\n",
    "    print(\"enter a valid operation\")\n",
    "print(\"Result =\",result)\n"
   ]
  },
  {
   "cell_type": "code",
   "execution_count": 23,
   "id": "a8d484e6",
   "metadata": {},
   "outputs": [
    {
     "name": "stdout",
     "output_type": "stream",
     "text": [
      "0\n",
      "1\n",
      "2\n",
      "3\n",
      "4\n"
     ]
    }
   ],
   "source": [
    "for i in range(10):\n",
    "    if i ==5:\n",
    "        break\n",
    "    print(i)"
   ]
  },
  {
   "cell_type": "code",
   "execution_count": 29,
   "id": "299d5998",
   "metadata": {},
   "outputs": [
    {
     "name": "stdout",
     "output_type": "stream",
     "text": [
      "1\n",
      "3\n",
      "5\n",
      "7\n",
      "9\n"
     ]
    }
   ],
   "source": [
    "for i in range(10):\n",
    "    if i%2==0:\n",
    "        continue\n",
    "    print(i)"
   ]
  },
  {
   "cell_type": "code",
   "execution_count": 35,
   "id": "3bd33ae1",
   "metadata": {},
   "outputs": [
    {
     "name": "stdout",
     "output_type": "stream",
     "text": [
      "0\n",
      "1\n",
      "2\n",
      "THe number is 3\n",
      "3\n",
      "4\n"
     ]
    }
   ],
   "source": [
    "for i in range(5):\n",
    "    if i==3:\n",
    "        print(\"THe number is\",i)\n",
    "        pass\n",
    "    print(i)"
   ]
  },
  {
   "cell_type": "markdown",
   "id": "c650c2bf",
   "metadata": {},
   "source": [
    "NESTED LOOP\n"
   ]
  },
  {
   "cell_type": "code",
   "execution_count": 36,
   "id": "d7940a75",
   "metadata": {},
   "outputs": [
    {
     "name": "stdout",
     "output_type": "stream",
     "text": [
      "i:0 and j:0\n",
      "i:0 and j:1\n",
      "i:1 and j:0\n",
      "i:1 and j:1\n",
      "i:2 and j:0\n",
      "i:2 and j:1\n"
     ]
    }
   ],
   "source": [
    "for i in range(3):\n",
    "    for j in range(2):\n",
    "        print(f\"i:{i} and j:{j}\")"
   ]
  },
  {
   "cell_type": "code",
   "execution_count": null,
   "id": "1cf07819",
   "metadata": {},
   "outputs": [
    {
     "name": "stdout",
     "output_type": "stream",
     "text": [
      "potatoes\n",
      "shoes\n",
      "clothes\n",
      "chicken\n",
      "shoes\n",
      "clothes\n"
     ]
    }
   ],
   "source": [
    "items = ['potatoes','chicken']\n",
    "stuffs = ['shoes','clothes']\n",
    "for i in items:\n",
    "    print(i)\n",
    "    for s in stuffs:\n",
    "        print(s)\n",
    "        "
   ]
  },
  {
   "cell_type": "code",
   "execution_count": null,
   "id": "2f0be713",
   "metadata": {},
   "outputs": [
    {
     "name": "stdout",
     "output_type": "stream",
     "text": [
      "Sum of first 10 natural numbers: 55\n"
     ]
    }
   ],
   "source": [
    "n=10\n",
    "sum = 0\n",
    "count = 1 \n",
    "\n",
    "while count <=n:\n",
    "    sum+=count\n",
    "    count+=1\n",
    "\n",
    "print(\"Sum of first 10 natural numbers:\",sum)     \n"
   ]
  },
  {
   "cell_type": "code",
   "execution_count": null,
   "id": "411b0ef2",
   "metadata": {},
   "outputs": [
    {
     "name": "stdout",
     "output_type": "stream",
     "text": [
      "2\n",
      "3\n",
      "5\n",
      "7\n",
      "11\n",
      "13\n",
      "17\n",
      "19\n",
      "23\n",
      "29\n",
      "31\n",
      "37\n",
      "41\n",
      "43\n",
      "47\n",
      "53\n",
      "59\n",
      "61\n",
      "67\n",
      "71\n",
      "73\n",
      "79\n",
      "83\n",
      "89\n",
      "97\n"
     ]
    }
   ],
   "source": [
    "for num in range(1,101) :\n",
    "    if num>1:\n",
    "        for i in range(2,num):\n",
    "            if num%i==0:\n",
    "                break\n",
    "        else:\n",
    "            print(num)"
   ]
  },
  {
   "cell_type": "code",
   "execution_count": null,
   "id": "1ee612e5",
   "metadata": {},
   "outputs": [],
   "source": []
  }
 ],
 "metadata": {
  "kernelspec": {
   "display_name": "Python 3",
   "language": "python",
   "name": "python3"
  },
  "language_info": {
   "codemirror_mode": {
    "name": "ipython",
    "version": 3
   },
   "file_extension": ".py",
   "mimetype": "text/x-python",
   "name": "python",
   "nbconvert_exporter": "python",
   "pygments_lexer": "ipython3",
   "version": "3.10.0"
  }
 },
 "nbformat": 4,
 "nbformat_minor": 5
}
