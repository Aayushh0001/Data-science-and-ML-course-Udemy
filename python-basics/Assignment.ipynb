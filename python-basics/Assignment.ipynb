{
 "cells": [
  {
   "cell_type": "markdown",
   "id": "6f6d6688",
   "metadata": {},
   "source": [
    "1:Write a python program to print hello world\n"
   ]
  },
  {
   "cell_type": "code",
   "execution_count": 1,
   "id": "9780e360",
   "metadata": {},
   "outputs": [
    {
     "name": "stdout",
     "output_type": "stream",
     "text": [
      "Hello World\n"
     ]
    }
   ],
   "source": [
    "print(\"Hello World\")"
   ]
  },
  {
   "cell_type": "markdown",
   "id": "924eceef",
   "metadata": {},
   "source": [
    "2:Write a python program that takes a user input and prints it."
   ]
  },
  {
   "cell_type": "code",
   "execution_count": 1,
   "id": "8f348659",
   "metadata": {},
   "outputs": [
    {
     "name": "stdout",
     "output_type": "stream",
     "text": [
      "\n"
     ]
    }
   ],
   "source": [
    "number = input(\"Please enter number\")\n",
    "print(number)"
   ]
  },
  {
   "cell_type": "markdown",
   "id": "b06dd049",
   "metadata": {},
   "source": [
    "3:Write a program to check if a number is positive,negative or zero.\n"
   ]
  },
  {
   "cell_type": "code",
   "execution_count": 7,
   "id": "f130dc87",
   "metadata": {},
   "outputs": [
    {
     "name": "stdout",
     "output_type": "stream",
     "text": [
      "zero\n"
     ]
    }
   ],
   "source": [
    "number=int(input(\"please enter number\"))\n",
    "if(number) >0:\n",
    "    print (\"Positive\")\n",
    "elif(number)<0:\n",
    "    print(\"negative\")\n",
    "else:\n",
    "    print(\"zero\")\n",
    "    "
   ]
  },
  {
   "cell_type": "markdown",
   "id": "ed905e72",
   "metadata": {},
   "source": [
    "4:write a python program to find the largest of three numbers."
   ]
  },
  {
   "cell_type": "code",
   "execution_count": 10,
   "id": "2ae9f93b",
   "metadata": {},
   "outputs": [
    {
     "name": "stdout",
     "output_type": "stream",
     "text": [
      "num2 is greatest\n"
     ]
    }
   ],
   "source": [
    "num1=float(input(\"enter 1st number\"))\n",
    "num2=float(input(\"enter 2nd number\"))\n",
    "num3=float(input(\"enter 3rd number\"))\n",
    "\n",
    "if num1>num2:\n",
    "    print(\"num1 is greatest\")\n",
    "elif num2>num3:\n",
    "    print(\"num2 is greatest\")\n",
    "else:\n",
    "    print(\"num3 is greatest\")    "
   ]
  },
  {
   "cell_type": "markdown",
   "id": "b004e1d9",
   "metadata": {},
   "source": [
    "5:write a python program to calculate the factorial of a number"
   ]
  },
  {
   "cell_type": "code",
   "execution_count": 1,
   "id": "0cb3d818",
   "metadata": {},
   "outputs": [
    {
     "name": "stdout",
     "output_type": "stream",
     "text": [
      "The factorial of 2.0 is 2.0\n"
     ]
    }
   ],
   "source": [
    "number = float(input(\"enter a number\"))\n",
    "def factorial(n):\n",
    "    if n==1:\n",
    "        return n\n",
    "    else:\n",
    "        return factorial(n-1)*n\n",
    "print(\"The factorial of\",number,\"is\",factorial(number))"
   ]
  },
  {
   "cell_type": "markdown",
   "id": "bf122c3b",
   "metadata": {},
   "source": [
    "6:Create variables of different data types:integer,float,string,and boolean and print their values and types.\n"
   ]
  },
  {
   "cell_type": "code",
   "execution_count": 19,
   "id": "231f1c1f",
   "metadata": {},
   "outputs": [
    {
     "name": "stdout",
     "output_type": "stream",
     "text": [
      "20 <class 'int'>\n",
      "Aayush <class 'str'>\n",
      "5.6 <class 'float'>\n"
     ]
    },
    {
     "data": {
      "text/plain": [
       "True"
      ]
     },
     "execution_count": 19,
     "metadata": {},
     "output_type": "execute_result"
    }
   ],
   "source": [
    "##Integer\n",
    "age=20\n",
    "print(age,type(age))\n",
    "\n",
    "#String\n",
    "Name=\"Aayush\"\n",
    "print(Name,type(Name))\n",
    "\n",
    "##Float\n",
    "Height=5.6\n",
    "print(Height,type(Height))\n",
    "\n",
    "#Boolean\n",
    "is_true=True\n",
    "bool(is_true)"
   ]
  },
  {
   "cell_type": "markdown",
   "id": "9d32f10c",
   "metadata": {},
   "source": [
    "7:Write a python program to swap the values of two variables."
   ]
  },
  {
   "cell_type": "code",
   "execution_count": 26,
   "id": "2f40a179",
   "metadata": {},
   "outputs": [
    {
     "name": "stdout",
     "output_type": "stream",
     "text": [
      "Before swapping:\n",
      "a= 5 \n",
      "b= 10\n",
      "The value of a after swapping: 10\n",
      "The value of b after swapping: 5\n"
     ]
    }
   ],
   "source": [
    "a=5\n",
    "b=10\n",
    "print(\"Before swapping:\\na=\",a,\"\\nb=\",b)\n",
    "temp=a\n",
    "a=b\n",
    "b=temp\n",
    "print(\"The value of a after swapping:\",format(a))\n",
    "print(\"The value of b after swapping:\",format(b))\n"
   ]
  },
  {
   "cell_type": "markdown",
   "id": "fe3d04cf",
   "metadata": {},
   "source": [
    "8:Write a python program to convert celsius to fahrenheit\n"
   ]
  },
  {
   "cell_type": "code",
   "execution_count": 30,
   "id": "b8d4ddaf",
   "metadata": {},
   "outputs": [
    {
     "name": "stdout",
     "output_type": "stream",
     "text": [
      "The Fahrenheit of the given temperature is: 399.99992000000003\n"
     ]
    }
   ],
   "source": [
    "Celsius=float(input(\"Enter a temperature\"))\n",
    "Fahrenheit= (Celsius*1.8) +32\n",
    "print(\"The Fahrenheit of the given temperature is:\",Fahrenheit)"
   ]
  },
  {
   "cell_type": "markdown",
   "id": "1548beac",
   "metadata": {},
   "source": [
    "9:Write a python program to concatenate two strings.\n"
   ]
  },
  {
   "cell_type": "code",
   "execution_count": 33,
   "id": "fcc240e9",
   "metadata": {},
   "outputs": [
    {
     "name": "stdout",
     "output_type": "stream",
     "text": [
      "Concatenated value is: Aayush Pant\n"
     ]
    }
   ],
   "source": [
    "str1=\"Aayush \"\n",
    "str2=\"Pant\"\n",
    "result = str1+str2\n",
    "print(\"Concatenated value is:\",result)"
   ]
  },
  {
   "cell_type": "markdown",
   "id": "f7cc9652",
   "metadata": {},
   "source": [
    "10:Write a python program to check if a variable is of a specific data type.\n"
   ]
  },
  {
   "cell_type": "code",
   "execution_count": 37,
   "id": "e0dad870",
   "metadata": {},
   "outputs": [
    {
     "name": "stdout",
     "output_type": "stream",
     "text": [
      "{num} is float\n"
     ]
    }
   ],
   "source": [
    "num=10.5\n",
    "if isinstance(num,float):\n",
    "    print(\"{num} is float\")\n",
    "else:\n",
    "    print(\"{num} is not a float\")\n"
   ]
  },
  {
   "cell_type": "markdown",
   "id": "aea66e94",
   "metadata": {},
   "source": [
    "11:Write a python program to perform arithmetic operations:addition,subtraction,multiplication and division"
   ]
  },
  {
   "cell_type": "code",
   "execution_count": 39,
   "id": "b75a9ef2",
   "metadata": {},
   "outputs": [
    {
     "name": "stdout",
     "output_type": "stream",
     "text": [
      "\n",
      "Sum: 5.0 \n",
      " Subtraction: -1.0 \n",
      " Multiplication: 6.0 \n",
      " Division= 0.6666666666666666\n"
     ]
    }
   ],
   "source": [
    "num1 = float(input(\"Enter a number\"))\n",
    "num2 = float(input(\"enter another number\"))\n",
    "\n",
    "sum = num1 + num2\n",
    "subtraction = num1 - num2 \n",
    "multiplication = num1*num2 \n",
    "division = num1/num2 \n",
    "print(\"\\nSum:\",sum,\"\\n\",\"Subtraction:\",subtraction,\"\\n\",\"Multiplication:\",multiplication,\"\\n\",\"Division=\",division)"
   ]
  },
  {
   "cell_type": "markdown",
   "id": "4f3b3da3",
   "metadata": {},
   "source": [
    "12:Write a python program to demonstrate comparison operators : equal to , not equal to ,greater than,less than.\""
   ]
  },
  {
   "cell_type": "code",
   "execution_count": 45,
   "id": "86cdd748",
   "metadata": {},
   "outputs": [
    {
     "name": "stdout",
     "output_type": "stream",
     "text": [
      "Equal to False\n",
      "Not equal to True\n",
      "Greater than False\n",
      "Less than True\n"
     ]
    }
   ],
   "source": [
    "a= 5\n",
    "b=10\n",
    "print(\"Equal to\",a==b)\n",
    "print(\"Not equal to\",a!=b)\n",
    "print(\"Greater than\",a>b)\n",
    "print(\"Less than\",a<b)\n"
   ]
  },
  {
   "cell_type": "markdown",
   "id": "7ef2db87",
   "metadata": {},
   "source": [
    "13:Write a python program to demonstrate logical operators.\n"
   ]
  },
  {
   "cell_type": "code",
   "execution_count": 48,
   "id": "ff8c5916",
   "metadata": {},
   "outputs": [
    {
     "name": "stdout",
     "output_type": "stream",
     "text": [
      "False\n",
      "True\n",
      "True\n"
     ]
    }
   ],
   "source": [
    "a=True\n",
    "b=False\n",
    "\n",
    "print(a and b)\n",
    "print(a or b)\n",
    "print(not b)"
   ]
  },
  {
   "cell_type": "markdown",
   "id": "87ec5ac0",
   "metadata": {},
   "source": [
    "14:Write a python program to calculate the square of a number\n"
   ]
  },
  {
   "cell_type": "code",
   "execution_count": 50,
   "id": "55e7834f",
   "metadata": {},
   "outputs": [
    {
     "name": "stdout",
     "output_type": "stream",
     "text": [
      "100\n"
     ]
    }
   ],
   "source": [
    "num=int(input(\"enter a number\"))\n",
    "square = num**2\n",
    "print(square)"
   ]
  },
  {
   "cell_type": "markdown",
   "id": "ec417ebd",
   "metadata": {},
   "source": [
    "15:Write a python program to check if a number is even or odd."
   ]
  },
  {
   "cell_type": "code",
   "execution_count": 55,
   "id": "23949ebc",
   "metadata": {},
   "outputs": [
    {
     "name": "stdout",
     "output_type": "stream",
     "text": [
      "odd\n"
     ]
    }
   ],
   "source": [
    "num=int(input(\"enter a number\"))\n",
    "if num%2 == 0:\n",
    "    print(\"even\")\n",
    "else:\n",
    "    print(\"odd\")"
   ]
  },
  {
   "cell_type": "markdown",
   "id": "97b8830c",
   "metadata": {},
   "source": [
    "16:Write a python program to find the sum of first n natural numbers.\n"
   ]
  },
  {
   "cell_type": "code",
   "execution_count": 59,
   "id": "33dc61fb",
   "metadata": {},
   "outputs": [
    {
     "name": "stdout",
     "output_type": "stream",
     "text": [
      "The sum of the first 10  natural numbers is 55\n"
     ]
    }
   ],
   "source": [
    "num=int(input(\"enter a number\"))\n",
    "sum=(num*(num+1))//2\n",
    "print(\"The sum of the first\",num,\" natural numbers is\",sum)"
   ]
  },
  {
   "cell_type": "markdown",
   "id": "f092d38a",
   "metadata": {},
   "source": [
    "17:Write a python program to check if a year is leap or not.\n"
   ]
  },
  {
   "cell_type": "code",
   "execution_count": 61,
   "id": "65175a1f",
   "metadata": {},
   "outputs": [
    {
     "name": "stdout",
     "output_type": "stream",
     "text": [
      "The year 2013 is not a leap year\n"
     ]
    }
   ],
   "source": [
    "year=int(input(\"enter a year\"))\n",
    "if (year%4 == 0 and year%100 != 0) or (year%400 == 0):\n",
    "    print(\"The year\",year,\"is a leap year\")\n",
    "else:\n",
    "    print(\"The year\",year,\"is not a leap year\")"
   ]
  },
  {
   "cell_type": "markdown",
   "id": "7c3c8ac2",
   "metadata": {},
   "source": [
    "18:Write a python program to reverse a string"
   ]
  },
  {
   "cell_type": "code",
   "execution_count": 65,
   "id": "2eb8a551",
   "metadata": {},
   "outputs": [
    {
     "name": "stdout",
     "output_type": "stream",
     "text": [
      "olleH\n"
     ]
    }
   ],
   "source": [
    "def reverse_string(s):\n",
    "    return s[::-1]\n",
    "input_str=\"Hello\"\n",
    "reversed_str=reverse_string(input_str)\n",
    "print(reversed_str)"
   ]
  },
  {
   "cell_type": "markdown",
   "id": "7c02ebfb",
   "metadata": {},
   "source": [
    "19:Wap to check if the string is palindrome or not.\n"
   ]
  },
  {
   "cell_type": "code",
   "execution_count": 72,
   "id": "d723e886",
   "metadata": {},
   "outputs": [
    {
     "name": "stdout",
     "output_type": "stream",
     "text": [
      "False\n"
     ]
    }
   ],
   "source": [
    "def is_palindrome(s):\n",
    "    return s == s[::-1]\n",
    "str=input(\"enter a word\")\n",
    "palidrome=is_palindrome(str)\n",
    "print(palidrome)\n"
   ]
  },
  {
   "cell_type": "markdown",
   "id": "f18a3451",
   "metadata": {},
   "source": [
    "20:Wap to sort the list of numbers in ascending order.\n"
   ]
  },
  {
   "cell_type": "code",
   "execution_count": 80,
   "id": "9db88ffe",
   "metadata": {},
   "outputs": [
    {
     "name": "stdout",
     "output_type": "stream",
     "text": [
      "[0, 1, 2, 3, 4, 6, 8]\n"
     ]
    }
   ],
   "source": [
    "list=[0,3,1,6,8,4,2]\n",
    "list.sort()\n",
    "print(list)\n"
   ]
  },
  {
   "cell_type": "code",
   "execution_count": null,
   "id": "8d028490",
   "metadata": {},
   "outputs": [],
   "source": []
  },
  {
   "cell_type": "code",
   "execution_count": null,
   "id": "b4bca248",
   "metadata": {},
   "outputs": [],
   "source": []
  }
 ],
 "metadata": {
  "kernelspec": {
   "display_name": "Python 3",
   "language": "python",
   "name": "python3"
  },
  "language_info": {
   "codemirror_mode": {
    "name": "ipython",
    "version": 3
   },
   "file_extension": ".py",
   "mimetype": "text/x-python",
   "name": "python",
   "nbconvert_exporter": "python",
   "pygments_lexer": "ipython3",
   "version": "3.10.0"
  }
 },
 "nbformat": 4,
 "nbformat_minor": 5
}
