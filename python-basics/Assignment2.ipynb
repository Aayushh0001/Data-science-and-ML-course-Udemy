{
 "cells": [
  {
   "cell_type": "markdown",
   "id": "ea96afb3",
   "metadata": {},
   "source": [
    "1,2,3:WAP to input a number and print the whether it is positive or not.\n"
   ]
  },
  {
   "cell_type": "code",
   "execution_count": 7,
   "id": "48bc0a14",
   "metadata": {},
   "outputs": [
    {
     "name": "stdout",
     "output_type": "stream",
     "text": [
      "The given number is positive\n"
     ]
    }
   ],
   "source": [
    "num = int(input(\"enter a number\"))\n",
    "\n",
    "if num > 0:\n",
    "    print(\"The given number is positive\")\n",
    "elif num <0:\n",
    "    print(\"The given number is negative\")\n",
    "else:\n",
    "    print(\"The given number is zero\")"
   ]
  },
  {
   "cell_type": "markdown",
   "id": "3ba47faf",
   "metadata": {},
   "source": [
    "4:WAP to input a number and print whether the number is positive and even,positive and odd or negative.\n"
   ]
  },
  {
   "cell_type": "code",
   "execution_count": 11,
   "id": "e3256950",
   "metadata": {},
   "outputs": [
    {
     "name": "stdout",
     "output_type": "stream",
     "text": [
      "the given number is negative\n"
     ]
    }
   ],
   "source": [
    "\n",
    "num = int(input(\"enter a number\"))\n",
    "if num>0:\n",
    "    if num%2==0:\n",
    "        print(\"the given number is positive and even\")\n",
    "    else:\n",
    "        print(\"the given number is positive and odd\")\n",
    "else:\n",
    "    print(\"the given number is negative\")    "
   ]
  },
  {
   "cell_type": "markdown",
   "id": "d1c576eb",
   "metadata": {},
   "source": [
    "5:WAP that prints all the numbers from 1 to 10 using for loop"
   ]
  },
  {
   "cell_type": "code",
   "execution_count": 42,
   "id": "53c48ed7",
   "metadata": {},
   "outputs": [
    {
     "name": "stdout",
     "output_type": "stream",
     "text": [
      "1\n",
      "2\n",
      "3\n",
      "4\n",
      "5\n",
      "6\n",
      "7\n",
      "8\n",
      "9\n",
      "10\n"
     ]
    }
   ],
   "source": [
    " \n",
    " for i in range(0,10):\n",
    "    i+=1\n",
    "    print(i)"
   ]
  },
  {
   "cell_type": "markdown",
   "id": "b10f575e",
   "metadata": {},
   "source": [
    "6:WAP that prints all the numbers from 1 to 10 using while loop\n"
   ]
  },
  {
   "cell_type": "code",
   "execution_count": 23,
   "id": "2ae73149",
   "metadata": {},
   "outputs": [
    {
     "name": "stdout",
     "output_type": "stream",
     "text": [
      "1\n",
      "2\n",
      "3\n",
      "4\n",
      "5\n",
      "6\n",
      "7\n",
      "8\n",
      "9\n",
      "10\n"
     ]
    }
   ],
   "source": [
    "i=0\n",
    "while i<10:\n",
    "    i+=1\n",
    "    print(i)\n"
   ]
  },
  {
   "cell_type": "markdown",
   "id": "9d59b821",
   "metadata": {},
   "source": [
    "7:WAP that prints a 5x5 grid of (*) using nested loops"
   ]
  },
  {
   "cell_type": "code",
   "execution_count": 45,
   "id": "a5cab376",
   "metadata": {},
   "outputs": [
    {
     "name": "stdout",
     "output_type": "stream",
     "text": [
      "*****\n",
      "*****\n",
      "*****\n",
      "*****\n",
      "*****\n"
     ]
    }
   ],
   "source": [
    "for i in range(5):\n",
    "    for j in range(5):\n",
    "        print(\"*\",end = \"\")\n",
    "    print() \n"
   ]
  },
  {
   "cell_type": "markdown",
   "id": "de9c4689",
   "metadata": {},
   "source": [
    "8:WAP to input numbers until the number is 0.The program should print the sum of all the input numbers."
   ]
  },
  {
   "cell_type": "code",
   "execution_count": 53,
   "id": "c7a9521b",
   "metadata": {},
   "outputs": [
    {
     "name": "stdout",
     "output_type": "stream",
     "text": [
      "The sum of all the numbers is 15\n"
     ]
    }
   ],
   "source": [
    "total=0\n",
    "while True:\n",
    "    num = int(input(\"enter a number\"))\n",
    "    if num == 0:\n",
    "        break\n",
    "    total+=num\n",
    "print(f\"The sum of all the numbers is {total}\")"
   ]
  },
  {
   "cell_type": "code",
   "execution_count": 56,
   "id": "9b7ea131",
   "metadata": {},
   "outputs": [
    {
     "name": "stdout",
     "output_type": "stream",
     "text": [
      "1\n",
      "2\n",
      "3\n",
      "4\n",
      "6\n",
      "7\n",
      "8\n",
      "9\n",
      "10\n"
     ]
    }
   ],
   "source": [
    "for i in range (1,11):\n",
    "    if i==5:\n",
    "        continue\n",
    "    else:\n",
    "        print(i)"
   ]
  },
  {
   "cell_type": "markdown",
   "id": "27e8f0ba",
   "metadata": {},
   "source": [
    "10:WAP that defines an empty function using the pass statement"
   ]
  },
  {
   "cell_type": "code",
   "execution_count": 57,
   "id": "a6ff4642",
   "metadata": {},
   "outputs": [],
   "source": [
    "def fuction():\n",
    "    pass"
   ]
  },
  {
   "cell_type": "markdown",
   "id": "9656d6a0",
   "metadata": {},
   "source": [
    "11:WAP  that asks the user to input a number and prints all the even numbers from 1 to that number using a for loop"
   ]
  },
  {
   "cell_type": "code",
   "execution_count": 73,
   "id": "b3da3e53",
   "metadata": {},
   "outputs": [
    {
     "name": "stdout",
     "output_type": "stream",
     "text": [
      "0\n",
      "2\n",
      "4\n",
      "6\n",
      "8\n",
      "10\n"
     ]
    }
   ],
   "source": [
    "num = int(input(\"Enter a number\"))\n",
    "for i in range(0,num+1):\n",
    "    if i%2 == 0:\n",
    "        print(i)\n",
    "    "
   ]
  },
  {
   "cell_type": "markdown",
   "id": "5762f5ae",
   "metadata": {},
   "source": [
    "Write a program that calculates the factorial of a number input by the user using a while loop."
   ]
  },
  {
   "cell_type": "code",
   "execution_count": 85,
   "id": "2daefbd6",
   "metadata": {},
   "outputs": [
    {
     "name": "stdout",
     "output_type": "stream",
     "text": [
      "The factorial of 6.0 is 720\n"
     ]
    }
   ],
   "source": [
    "num = float(input(\"enter a number\"))\n",
    "if num < 0 :\n",
    "    print(\"Enter a positive number\")\n",
    "else:\n",
    "    result=1\n",
    "    i=1\n",
    "    while i<=num:\n",
    "        result *= i\n",
    "        i += 1\n",
    "    print(\"The factorial of\",num,\"is\",result)"
   ]
  },
  {
   "cell_type": "markdown",
   "id": "25ef9a7c",
   "metadata": {},
   "source": [
    "Write a program that calculates the sum of the digits of a number input by the user using a while loop"
   ]
  },
  {
   "cell_type": "code",
   "execution_count": 87,
   "id": "2c11e64c",
   "metadata": {},
   "outputs": [
    {
     "name": "stdout",
     "output_type": "stream",
     "text": [
      "The sum of the digits of the input number is 15\n"
     ]
    }
   ],
   "source": [
    "num = int(input(\"enter a number\"))\n",
    "sum=0\n",
    "while num>0:\n",
    "    digit=num%10\n",
    "    sum += digit\n",
    "    num = num // 10\n",
    "print(\"The sum of the digits of the input number is\",sum)\n"
   ]
  },
  {
   "cell_type": "markdown",
   "id": "78b1246e",
   "metadata": {},
   "source": [
    "WAP that checks if the number input by the user is prime number using a for loop:\n"
   ]
  },
  {
   "cell_type": "code",
   "execution_count": 106,
   "id": "2ded3cbd",
   "metadata": {},
   "outputs": [
    {
     "name": "stdout",
     "output_type": "stream",
     "text": [
      "The input is a prime number \n"
     ]
    }
   ],
   "source": [
    "num = int(input(\"Enter a number\"))\n",
    "for i in range(2,num):\n",
    "    if num%i==0 and num != i:\n",
    "        print(\"The input is not a prime number \")\n",
    "        break\n",
    "    else:\n",
    "        print(\"The input is a prime number \")\n",
    "        break"
   ]
  },
  {
   "cell_type": "markdown",
   "id": "16d6b7ab",
   "metadata": {},
   "source": [
    "Wap to print the first n fibonacci numbers where n is input by the user"
   ]
  },
  {
   "cell_type": "code",
   "execution_count": 114,
   "id": "55d761c7",
   "metadata": {},
   "outputs": [
    {
     "name": "stdout",
     "output_type": "stream",
     "text": [
      "first 10 fibonacci numbers:\n",
      "0\n",
      "1\n",
      "1\n",
      "2\n",
      "3\n",
      "5\n",
      "8\n",
      "13\n",
      "21\n",
      "34\n"
     ]
    }
   ],
   "source": [
    "n = int(input(\"enter a number\"))\n",
    "a=0\n",
    "b=1\n",
    "count = 0\n",
    "print(f\"first {n} fibonacci numbers:\")\n",
    "while count < n:\n",
    "    print(a)\n",
    "    a,b=b,a+b\n",
    "    count +=1"
   ]
  },
  {
   "cell_type": "code",
   "execution_count": null,
   "id": "f50bbbb9",
   "metadata": {},
   "outputs": [],
   "source": []
  }
 ],
 "metadata": {
  "kernelspec": {
   "display_name": "Python 3",
   "language": "python",
   "name": "python3"
  },
  "language_info": {
   "codemirror_mode": {
    "name": "ipython",
    "version": 3
   },
   "file_extension": ".py",
   "mimetype": "text/x-python",
   "name": "python",
   "nbconvert_exporter": "python",
   "pygments_lexer": "ipython3",
   "version": "3.12.0"
  }
 },
 "nbformat": 4,
 "nbformat_minor": 5
}
