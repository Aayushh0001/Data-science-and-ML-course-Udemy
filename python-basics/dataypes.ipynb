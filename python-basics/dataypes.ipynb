{
 "cells": [
  {
   "cell_type": "markdown",
   "id": "121976b9",
   "metadata": {},
   "source": [
    "DATATYPES\n"
   ]
  },
  {
   "cell_type": "code",
   "execution_count": 1,
   "id": "909e6838",
   "metadata": {},
   "outputs": [
    {
     "name": "stdout",
     "output_type": "stream",
     "text": [
      "20 <class 'int'>\n"
     ]
    }
   ],
   "source": [
    "##INTEGER\n",
    "age = 20\n",
    "print(age,type(age))"
   ]
  },
  {
   "cell_type": "code",
   "execution_count": 2,
   "id": "0b48d227",
   "metadata": {},
   "outputs": [
    {
     "name": "stdout",
     "output_type": "stream",
     "text": [
      "5.11 <class 'float'>\n"
     ]
    }
   ],
   "source": [
    "##FLOAT\n",
    "height = 5.11\n",
    "print(height,type(height))"
   ]
  },
  {
   "cell_type": "code",
   "execution_count": 3,
   "id": "d66afe40",
   "metadata": {},
   "outputs": [
    {
     "name": "stdout",
     "output_type": "stream",
     "text": [
      "Aayush <class 'str'>\n"
     ]
    }
   ],
   "source": [
    "##STRING\n",
    "Name=\"Aayush\"\n",
    "print(Name,type(Name))"
   ]
  },
  {
   "cell_type": "code",
   "execution_count": 4,
   "id": "5554e69b",
   "metadata": {},
   "outputs": [
    {
     "data": {
      "text/plain": [
       "bool"
      ]
     },
     "execution_count": 4,
     "metadata": {},
     "output_type": "execute_result"
    }
   ],
   "source": [
    "#BOOLEAN\n",
    "is_true = True\n",
    "type(is_true)"
   ]
  },
  {
   "cell_type": "code",
   "execution_count": 6,
   "id": "4c0ae8ff",
   "metadata": {},
   "outputs": [
    {
     "data": {
      "text/plain": [
       "bool"
      ]
     },
     "execution_count": 6,
     "metadata": {},
     "output_type": "execute_result"
    }
   ],
   "source": [
    "A=10\n",
    "B=10\n",
    "\n",
    "type(A==B)"
   ]
  },
  {
   "cell_type": "code",
   "execution_count": 8,
   "id": "33af621b",
   "metadata": {},
   "outputs": [
    {
     "name": "stdout",
     "output_type": "stream",
     "text": [
      "Hello10\n"
     ]
    }
   ],
   "source": [
    "#Errors\n",
    "\n",
    "#Typecasting\n",
    "result = \"Hello\" + str(10)\n",
    "print(result)\n"
   ]
  }
 ],
 "metadata": {
  "kernelspec": {
   "display_name": "Python 3",
   "language": "python",
   "name": "python3"
  },
  "language_info": {
   "codemirror_mode": {
    "name": "ipython",
    "version": 3
   },
   "file_extension": ".py",
   "mimetype": "text/x-python",
   "name": "python",
   "nbconvert_exporter": "python",
   "pygments_lexer": "ipython3",
   "version": "3.10.0"
  }
 },
 "nbformat": 4,
 "nbformat_minor": 5
}
