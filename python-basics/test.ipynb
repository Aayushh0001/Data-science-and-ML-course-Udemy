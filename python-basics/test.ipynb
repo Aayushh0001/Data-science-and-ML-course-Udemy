{
 "cells": [
  {
   "cell_type": "markdown",
   "id": "c491fa44",
   "metadata": {},
   "source": [
    "### python Example"
   ]
  },
  {
   "cell_type": "code",
   "execution_count": 2,
   "id": "045b227f",
   "metadata": {},
   "outputs": [
    {
     "name": "stdout",
     "output_type": "stream",
     "text": [
      "Hello World\n"
     ]
    }
   ],
   "source": [
    "print(\"Hello World\")"
   ]
  },
  {
   "cell_type": "markdown",
   "id": "2d58c4c3",
   "metadata": {},
   "source": [
    "### Variable"
   ]
  },
  {
   "cell_type": "code",
   "execution_count": 7,
   "id": "d38c9377",
   "metadata": {},
   "outputs": [
    {
     "name": "stdout",
     "output_type": "stream",
     "text": [
      "pant\n",
      "pant\n"
     ]
    }
   ],
   "source": [
    "name=\"aayush\"\n",
    "name=\"pant\"\n",
    "\n",
    "print(name)\n",
    "print(name)"
   ]
  },
  {
   "cell_type": "code",
   "execution_count": 1,
   "id": "052a0b6f",
   "metadata": {},
   "outputs": [],
   "source": [
    "a=100"
   ]
  },
  {
   "cell_type": "code",
   "execution_count": 4,
   "id": "60e82c81",
   "metadata": {},
   "outputs": [
    {
     "data": {
      "text/plain": [
       "float"
      ]
     },
     "execution_count": 4,
     "metadata": {},
     "output_type": "execute_result"
    }
   ],
   "source": [
    "height=5.11\n",
    "\n",
    "type(height)"
   ]
  },
  {
   "cell_type": "code",
   "execution_count": 8,
   "id": "2f59682f",
   "metadata": {},
   "outputs": [
    {
     "data": {
      "text/plain": [
       "'5.11'"
      ]
     },
     "execution_count": 8,
     "metadata": {},
     "output_type": "execute_result"
    }
   ],
   "source": [
    "str(float(height))"
   ]
  },
  {
   "cell_type": "code",
   "execution_count": 3,
   "id": "a099d5b0",
   "metadata": {},
   "outputs": [
    {
     "name": "stdout",
     "output_type": "stream",
     "text": [
      "10 <class 'int'>\n",
      "Hi <class 'str'>\n",
      "1.2 <class 'float'>\n"
     ]
    }
   ],
   "source": [
    "## Dynamic typing\n",
    "\n",
    "var =10 \n",
    "print(var,type(var))\n",
    "\n",
    "var = \"Hi\"\n",
    "print(var,type(var))\n",
    "\n",
    "var=1.2\n",
    "print(var,type(var))"
   ]
  },
  {
   "cell_type": "code",
   "execution_count": 7,
   "id": "55dbbd13",
   "metadata": {},
   "outputs": [
    {
     "name": "stdout",
     "output_type": "stream",
     "text": [
      "20 <class 'int'>\n"
     ]
    }
   ],
   "source": [
    "age = int(input(\"what is your age?\"))\n",
    "print(age,type(age))"
   ]
  },
  {
   "cell_type": "code",
   "execution_count": 12,
   "id": "07c64727",
   "metadata": {},
   "outputs": [
    {
     "name": "stdout",
     "output_type": "stream",
     "text": [
      "Sum= 5.0\n",
      "Difference= -1.0\n",
      "Product= 6.0\n",
      "Division= 0.6666666666666666\n"
     ]
    }
   ],
   "source": [
    "##Calculator\n",
    "\n",
    "num1 = float(input(\"Enter a number\"))\n",
    "num2 = float(input(\"Enter another number\"))\n",
    "\n",
    "sum = num1 + num2 \n",
    "difference = num1 - num2\n",
    "product = num1 * num2 \n",
    "division = num1/num2\n",
    "\n",
    "print(\"Sum=\",sum)\n",
    "print(\"Difference=\",difference)\n",
    "print(\"Product=\",product)\n",
    "print(\"Division=\",division)\n"
   ]
  },
  {
   "cell_type": "code",
   "execution_count": null,
   "id": "5704431a",
   "metadata": {},
   "outputs": [],
   "source": []
  },
  {
   "cell_type": "code",
   "execution_count": null,
   "id": "b3e91b2b",
   "metadata": {},
   "outputs": [],
   "source": []
  }
 ],
 "metadata": {
  "kernelspec": {
   "display_name": "Python 3",
   "language": "python",
   "name": "python3"
  },
  "language_info": {
   "codemirror_mode": {
    "name": "ipython",
    "version": 3
   },
   "file_extension": ".py",
   "mimetype": "text/x-python",
   "name": "python",
   "nbconvert_exporter": "python",
   "pygments_lexer": "ipython3",
   "version": "3.12.0"
  }
 },
 "nbformat": 4,
 "nbformat_minor": 5
}
